{
 "cells": [
  {
   "cell_type": "code",
   "execution_count": 37,
   "id": "63a01b61",
   "metadata": {},
   "outputs": [],
   "source": [
    "import pandas as pd\n",
    "import seaborn as sns"
   ]
  },
  {
   "cell_type": "markdown",
   "id": "45dc17e4",
   "metadata": {},
   "source": [
    "### ABOUT THE DATA\n"
   ]
  },
  {
   "cell_type": "markdown",
   "id": "4084bab2",
   "metadata": {},
   "source": [
    "### LOADING DATA"
   ]
  },
  {
   "cell_type": "code",
   "execution_count": 2,
   "id": "f76c1ce4",
   "metadata": {},
   "outputs": [
    {
     "name": "stdout",
     "output_type": "stream",
     "text": [
      "There are 4514 rows and 6 columns in data set-1\n"
     ]
    }
   ],
   "source": [
    "news_summary_df = pd.read_csv(r'data/news_summary.zip', encoding=\"ISO-8859-1\")\n",
    "print(f'There are {news_summary_df.shape[0]} rows and {news_summary_df.shape[1]} columns in data set-1')"
   ]
  },
  {
   "cell_type": "code",
   "execution_count": 3,
   "id": "a3e95a7e",
   "metadata": {},
   "outputs": [
    {
     "name": "stdout",
     "output_type": "stream",
     "text": [
      "There are 98401 rows and 2 columns in data set-2\n"
     ]
    }
   ],
   "source": [
    "news_summary_more_df = pd.read_csv(r'data/news_summary_more.zip', encoding=\"ISO-8859-1\")\n",
    "print(f'There are {news_summary_more_df.shape[0]} rows and {news_summary_more_df.shape[1]} columns in data set-2')"
   ]
  },
  {
   "cell_type": "code",
   "execution_count": 8,
   "id": "1b501487",
   "metadata": {},
   "outputs": [],
   "source": [
    "# renmaing the columns for better readability\n",
    "news_summary_df.rename(columns={'read_more':'url', 'text':'short_text', 'ctext':'full_text'}, inplace = True)\n",
    "news_summary_more_df.rename(columns={'text':'full_text'}, inplace=True)"
   ]
  },
  {
   "cell_type": "code",
   "execution_count": 7,
   "id": "cf47f829",
   "metadata": {},
   "outputs": [
    {
     "data": {
      "text/html": [
       "<div>\n",
       "<style scoped>\n",
       "    .dataframe tbody tr th:only-of-type {\n",
       "        vertical-align: middle;\n",
       "    }\n",
       "\n",
       "    .dataframe tbody tr th {\n",
       "        vertical-align: top;\n",
       "    }\n",
       "\n",
       "    .dataframe thead th {\n",
       "        text-align: right;\n",
       "    }\n",
       "</style>\n",
       "<table border=\"1\" class=\"dataframe\">\n",
       "  <thead>\n",
       "    <tr style=\"text-align: right;\">\n",
       "      <th></th>\n",
       "      <th>headlines</th>\n",
       "      <th>full_text</th>\n",
       "    </tr>\n",
       "  </thead>\n",
       "  <tbody>\n",
       "    <tr>\n",
       "      <th>0</th>\n",
       "      <td>upGrad learner switches to career in ML &amp; Al w...</td>\n",
       "      <td>Saurav Kant, an alumnus of upGrad and IIIT-B's...</td>\n",
       "    </tr>\n",
       "    <tr>\n",
       "      <th>1</th>\n",
       "      <td>Delhi techie wins free food from Swiggy for on...</td>\n",
       "      <td>Kunal Shah's credit card bill payment platform...</td>\n",
       "    </tr>\n",
       "    <tr>\n",
       "      <th>2</th>\n",
       "      <td>New Zealand end Rohit Sharma-led India's 12-ma...</td>\n",
       "      <td>New Zealand defeated India by 8 wickets in the...</td>\n",
       "    </tr>\n",
       "    <tr>\n",
       "      <th>3</th>\n",
       "      <td>Aegon life iTerm insurance plan helps customer...</td>\n",
       "      <td>With Aegon Life iTerm Insurance plan, customer...</td>\n",
       "    </tr>\n",
       "    <tr>\n",
       "      <th>4</th>\n",
       "      <td>Have known Hirani for yrs, what if MeToo claim...</td>\n",
       "      <td>Speaking about the sexual harassment allegatio...</td>\n",
       "    </tr>\n",
       "  </tbody>\n",
       "</table>\n",
       "</div>"
      ],
      "text/plain": [
       "                                           headlines  \\\n",
       "0  upGrad learner switches to career in ML & Al w...   \n",
       "1  Delhi techie wins free food from Swiggy for on...   \n",
       "2  New Zealand end Rohit Sharma-led India's 12-ma...   \n",
       "3  Aegon life iTerm insurance plan helps customer...   \n",
       "4  Have known Hirani for yrs, what if MeToo claim...   \n",
       "\n",
       "                                           full_text  \n",
       "0  Saurav Kant, an alumnus of upGrad and IIIT-B's...  \n",
       "1  Kunal Shah's credit card bill payment platform...  \n",
       "2  New Zealand defeated India by 8 wickets in the...  \n",
       "3  With Aegon Life iTerm Insurance plan, customer...  \n",
       "4  Speaking about the sexual harassment allegatio...  "
      ]
     },
     "execution_count": 7,
     "metadata": {},
     "output_type": "execute_result"
    }
   ],
   "source": [
    "news_summary_more_df.head()"
   ]
  },
  {
   "cell_type": "code",
   "execution_count": 9,
   "id": "0ba150e1",
   "metadata": {},
   "outputs": [
    {
     "data": {
      "text/html": [
       "<div>\n",
       "<style scoped>\n",
       "    .dataframe tbody tr th:only-of-type {\n",
       "        vertical-align: middle;\n",
       "    }\n",
       "\n",
       "    .dataframe tbody tr th {\n",
       "        vertical-align: top;\n",
       "    }\n",
       "\n",
       "    .dataframe thead th {\n",
       "        text-align: right;\n",
       "    }\n",
       "</style>\n",
       "<table border=\"1\" class=\"dataframe\">\n",
       "  <thead>\n",
       "    <tr style=\"text-align: right;\">\n",
       "      <th></th>\n",
       "      <th>author</th>\n",
       "      <th>date</th>\n",
       "      <th>headlines</th>\n",
       "      <th>url</th>\n",
       "      <th>short_text</th>\n",
       "      <th>full_text</th>\n",
       "    </tr>\n",
       "  </thead>\n",
       "  <tbody>\n",
       "    <tr>\n",
       "      <th>0</th>\n",
       "      <td>Chhavi Tyagi</td>\n",
       "      <td>03 Aug 2017,Thursday</td>\n",
       "      <td>Daman &amp; Diu revokes mandatory Rakshabandhan in...</td>\n",
       "      <td>http://www.hindustantimes.com/india-news/raksh...</td>\n",
       "      <td>The Administration of Union Territory Daman an...</td>\n",
       "      <td>The Daman and Diu administration on Wednesday ...</td>\n",
       "    </tr>\n",
       "    <tr>\n",
       "      <th>1</th>\n",
       "      <td>Daisy Mowke</td>\n",
       "      <td>03 Aug 2017,Thursday</td>\n",
       "      <td>Malaika slams user who trolled her for 'divorc...</td>\n",
       "      <td>http://www.hindustantimes.com/bollywood/malaik...</td>\n",
       "      <td>Malaika Arora slammed an Instagram user who tr...</td>\n",
       "      <td>From her special numbers to TV?appearances, Bo...</td>\n",
       "    </tr>\n",
       "    <tr>\n",
       "      <th>2</th>\n",
       "      <td>Arshiya Chopra</td>\n",
       "      <td>03 Aug 2017,Thursday</td>\n",
       "      <td>'Virgin' now corrected to 'Unmarried' in IGIMS...</td>\n",
       "      <td>http://www.hindustantimes.com/patna/bihar-igim...</td>\n",
       "      <td>The Indira Gandhi Institute of Medical Science...</td>\n",
       "      <td>The Indira Gandhi Institute of Medical Science...</td>\n",
       "    </tr>\n",
       "    <tr>\n",
       "      <th>3</th>\n",
       "      <td>Sumedha Sehra</td>\n",
       "      <td>03 Aug 2017,Thursday</td>\n",
       "      <td>Aaj aapne pakad liya: LeT man Dujana before be...</td>\n",
       "      <td>http://indiatoday.intoday.in/story/abu-dujana-...</td>\n",
       "      <td>Lashkar-e-Taiba's Kashmir commander Abu Dujana...</td>\n",
       "      <td>Lashkar-e-Taiba's Kashmir commander Abu Dujana...</td>\n",
       "    </tr>\n",
       "    <tr>\n",
       "      <th>4</th>\n",
       "      <td>Aarushi Maheshwari</td>\n",
       "      <td>03 Aug 2017,Thursday</td>\n",
       "      <td>Hotel staff to get training to spot signs of s...</td>\n",
       "      <td>http://indiatoday.intoday.in/story/sex-traffic...</td>\n",
       "      <td>Hotels in Maharashtra will train their staff t...</td>\n",
       "      <td>Hotels in Mumbai and other Indian cities are t...</td>\n",
       "    </tr>\n",
       "  </tbody>\n",
       "</table>\n",
       "</div>"
      ],
      "text/plain": [
       "               author                  date  \\\n",
       "0        Chhavi Tyagi  03 Aug 2017,Thursday   \n",
       "1         Daisy Mowke  03 Aug 2017,Thursday   \n",
       "2      Arshiya Chopra  03 Aug 2017,Thursday   \n",
       "3       Sumedha Sehra  03 Aug 2017,Thursday   \n",
       "4  Aarushi Maheshwari  03 Aug 2017,Thursday   \n",
       "\n",
       "                                           headlines  \\\n",
       "0  Daman & Diu revokes mandatory Rakshabandhan in...   \n",
       "1  Malaika slams user who trolled her for 'divorc...   \n",
       "2  'Virgin' now corrected to 'Unmarried' in IGIMS...   \n",
       "3  Aaj aapne pakad liya: LeT man Dujana before be...   \n",
       "4  Hotel staff to get training to spot signs of s...   \n",
       "\n",
       "                                                 url  \\\n",
       "0  http://www.hindustantimes.com/india-news/raksh...   \n",
       "1  http://www.hindustantimes.com/bollywood/malaik...   \n",
       "2  http://www.hindustantimes.com/patna/bihar-igim...   \n",
       "3  http://indiatoday.intoday.in/story/abu-dujana-...   \n",
       "4  http://indiatoday.intoday.in/story/sex-traffic...   \n",
       "\n",
       "                                          short_text  \\\n",
       "0  The Administration of Union Territory Daman an...   \n",
       "1  Malaika Arora slammed an Instagram user who tr...   \n",
       "2  The Indira Gandhi Institute of Medical Science...   \n",
       "3  Lashkar-e-Taiba's Kashmir commander Abu Dujana...   \n",
       "4  Hotels in Maharashtra will train their staff t...   \n",
       "\n",
       "                                           full_text  \n",
       "0  The Daman and Diu administration on Wednesday ...  \n",
       "1  From her special numbers to TV?appearances, Bo...  \n",
       "2  The Indira Gandhi Institute of Medical Science...  \n",
       "3  Lashkar-e-Taiba's Kashmir commander Abu Dujana...  \n",
       "4  Hotels in Mumbai and other Indian cities are t...  "
      ]
     },
     "execution_count": 9,
     "metadata": {},
     "output_type": "execute_result"
    }
   ],
   "source": [
    "news_summary_df.head()"
   ]
  },
  {
   "cell_type": "markdown",
   "id": "5b186f02",
   "metadata": {},
   "source": [
    "### DATA PRE-PROCESSING\n",
    "\n",
    "- Handling NA values"
   ]
  },
  {
   "cell_type": "code",
   "execution_count": 10,
   "id": "29035c50",
   "metadata": {},
   "outputs": [
    {
     "name": "stdout",
     "output_type": "stream",
     "text": [
      "<class 'pandas.core.frame.DataFrame'>\n",
      "Int64Index: 4514 entries, 0 to 4513\n",
      "Data columns (total 6 columns):\n",
      " #   Column      Non-Null Count  Dtype \n",
      "---  ------      --------------  ----- \n",
      " 0   author      4514 non-null   object\n",
      " 1   date        4514 non-null   object\n",
      " 2   headlines   4514 non-null   object\n",
      " 3   url         4514 non-null   object\n",
      " 4   short_text  4514 non-null   object\n",
      " 5   full_text   4396 non-null   object\n",
      "dtypes: object(6)\n",
      "memory usage: 246.9+ KB\n"
     ]
    }
   ],
   "source": [
    "news_summary_df.info()"
   ]
  },
  {
   "cell_type": "code",
   "execution_count": 11,
   "id": "7326a832",
   "metadata": {},
   "outputs": [
    {
     "name": "stdout",
     "output_type": "stream",
     "text": [
      "<class 'pandas.core.frame.DataFrame'>\n",
      "Int64Index: 98401 entries, 0 to 98400\n",
      "Data columns (total 2 columns):\n",
      " #   Column     Non-Null Count  Dtype \n",
      "---  ------     --------------  ----- \n",
      " 0   headlines  98401 non-null  object\n",
      " 1   full_text  98401 non-null  object\n",
      "dtypes: object(2)\n",
      "memory usage: 2.3+ MB\n"
     ]
    }
   ],
   "source": [
    "news_summary_more_df.info()"
   ]
  },
  {
   "cell_type": "code",
   "execution_count": 12,
   "id": "742348b6",
   "metadata": {},
   "outputs": [
    {
     "data": {
      "text/plain": [
       "<AxesSubplot:>"
      ]
     },
     "execution_count": 12,
     "metadata": {},
     "output_type": "execute_result"
    },
    {
     "data": {
      "image/png": "[encoded data removed]",
      "text/plain": [
       "<Figure size 432x288 with 2 Axes>"
      ]
     },
     "metadata": {
      "needs_background": "light"
     },
     "output_type": "display_data"
    }
   ],
   "source": [
    "sns.heatmap(news_summary_df.isna()) # few NA values are present in full text column"
   ]
  },
  {
   "cell_type": "code",
   "execution_count": 30,
   "id": "0627b884",
   "metadata": {},
   "outputs": [
    {
     "data": {
      "text/html": [
       "<div>\n",
       "<style scoped>\n",
       "    .dataframe tbody tr th:only-of-type {\n",
       "        vertical-align: middle;\n",
       "    }\n",
       "\n",
       "    .dataframe tbody tr th {\n",
       "        vertical-align: top;\n",
       "    }\n",
       "\n",
       "    .dataframe thead th {\n",
       "        text-align: right;\n",
       "    }\n",
       "</style>\n",
       "<table border=\"1\" class=\"dataframe\">\n",
       "  <thead>\n",
       "    <tr style=\"text-align: right;\">\n",
       "      <th></th>\n",
       "      <th>author</th>\n",
       "      <th>date</th>\n",
       "      <th>headlines</th>\n",
       "      <th>url</th>\n",
       "      <th>short_text</th>\n",
       "      <th>full_text</th>\n",
       "    </tr>\n",
       "  </thead>\n",
       "  <tbody>\n",
       "    <tr>\n",
       "      <th>136</th>\n",
       "      <td>Mansha Mahajan</td>\n",
       "      <td>01 Aug 2017,Tuesday</td>\n",
       "      <td>Air India's current business is not sustainabl...</td>\n",
       "      <td>http://indiatoday.intoday.in/story/ais-current...</td>\n",
       "      <td>Air India's current business is \"not sustainab...</td>\n",
       "      <td>NaN</td>\n",
       "    </tr>\n",
       "    <tr>\n",
       "      <th>231</th>\n",
       "      <td>Niharika Prabhakar</td>\n",
       "      <td>31 Jul 2017,Monday</td>\n",
       "      <td>Delhi woman alleges in-laws set her on fire, dies</td>\n",
       "      <td>http://indiatoday.intoday.in/story/delhi-burns...</td>\n",
       "      <td>A 27-year-old woman has told police that her i...</td>\n",
       "      <td>NaN</td>\n",
       "    </tr>\n",
       "    <tr>\n",
       "      <th>286</th>\n",
       "      <td>Saloni Tandon</td>\n",
       "      <td>29 Jul 2017,Saturday</td>\n",
       "      <td>People count my failures, I don't, says Virat ...</td>\n",
       "      <td>http://indiatoday.intoday.in/story/people-coun...</td>\n",
       "      <td>India captain Virat Kohli has said he is not a...</td>\n",
       "      <td>NaN</td>\n",
       "    </tr>\n",
       "    <tr>\n",
       "      <th>373</th>\n",
       "      <td>Aarushi Maheshwari</td>\n",
       "      <td>28 Jul 2017,Friday</td>\n",
       "      <td>US mandates explosive trace checks for all fli...</td>\n",
       "      <td>http://indiatoday.intoday.in/story/ais-direct-...</td>\n",
       "      <td>The US Transportation Security Administration ...</td>\n",
       "      <td>NaN</td>\n",
       "    </tr>\n",
       "    <tr>\n",
       "      <th>399</th>\n",
       "      <td>Anmol Sharma</td>\n",
       "      <td>28 Jul 2017,Friday</td>\n",
       "      <td>16-year-old golfer Diksha Dagar wins silver at...</td>\n",
       "      <td>http://indiatoday.intoday.in/story/amateur-gol...</td>\n",
       "      <td>Indian golfer Diksha Dagar won a silver medal ...</td>\n",
       "      <td>NaN</td>\n",
       "    </tr>\n",
       "    <tr>\n",
       "      <th>...</th>\n",
       "      <td>...</td>\n",
       "      <td>...</td>\n",
       "      <td>...</td>\n",
       "      <td>...</td>\n",
       "      <td>...</td>\n",
       "      <td>...</td>\n",
       "    </tr>\n",
       "    <tr>\n",
       "      <th>4361</th>\n",
       "      <td>Sanira Mediratta</td>\n",
       "      <td>06 Mar 2017,Monday</td>\n",
       "      <td>A village in Arunachal sees first sunrise in I...</td>\n",
       "      <td>http://indiatoday.intoday.in/story/first-rays-...</td>\n",
       "      <td>Dong village in Arunachal Pradesh, which is kn...</td>\n",
       "      <td>NaN</td>\n",
       "    </tr>\n",
       "    <tr>\n",
       "      <th>4423</th>\n",
       "      <td>Mansha Mahajan</td>\n",
       "      <td>01 Mar 2017,Wednesday</td>\n",
       "      <td>Need regulatory body for medical devices, says...</td>\n",
       "      <td>http://indiatoday.intoday.in/story/india-needs...</td>\n",
       "      <td>Biocon Chairperson Kiran Mazumdar-Shaw has cal...</td>\n",
       "      <td>NaN</td>\n",
       "    </tr>\n",
       "    <tr>\n",
       "      <th>4454</th>\n",
       "      <td>Abhishek Bansal</td>\n",
       "      <td>28 Feb 2017,Tuesday</td>\n",
       "      <td>India got only 17 DRS referrals right out of 5...</td>\n",
       "      <td>http://indiatoday.intoday.in/story/indecision-...</td>\n",
       "      <td>The Indian team got only 17 DRS referrals in t...</td>\n",
       "      <td>NaN</td>\n",
       "    </tr>\n",
       "    <tr>\n",
       "      <th>4500</th>\n",
       "      <td>Mansha Mahajan</td>\n",
       "      <td>24 Feb 2017,Friday</td>\n",
       "      <td>Business models of e-tailers have not worked: ...</td>\n",
       "      <td>http://indiatoday.intoday.in/story/biz-models-...</td>\n",
       "      <td>Former Infosys CFO Mohandas Pai has said that ...</td>\n",
       "      <td>NaN</td>\n",
       "    </tr>\n",
       "    <tr>\n",
       "      <th>4508</th>\n",
       "      <td>Tarun Khanna</td>\n",
       "      <td>24 Feb 2017,Friday</td>\n",
       "      <td>Ticket collector bites off senior officer?s no...</td>\n",
       "      <td>http://indiatoday.intoday.in/story/tc-allegedl...</td>\n",
       "      <td>A ticket collector on Thursday allegedly bit o...</td>\n",
       "      <td>NaN</td>\n",
       "    </tr>\n",
       "  </tbody>\n",
       "</table>\n",
       "<p>118 rows × 6 columns</p>\n",
       "</div>"
      ],
      "text/plain": [
       "                  author                   date  \\\n",
       "136       Mansha Mahajan    01 Aug 2017,Tuesday   \n",
       "231   Niharika Prabhakar     31 Jul 2017,Monday   \n",
       "286        Saloni Tandon   29 Jul 2017,Saturday   \n",
       "373   Aarushi Maheshwari     28 Jul 2017,Friday   \n",
       "399         Anmol Sharma     28 Jul 2017,Friday   \n",
       "...                  ...                    ...   \n",
       "4361    Sanira Mediratta     06 Mar 2017,Monday   \n",
       "4423      Mansha Mahajan  01 Mar 2017,Wednesday   \n",
       "4454     Abhishek Bansal    28 Feb 2017,Tuesday   \n",
       "4500      Mansha Mahajan     24 Feb 2017,Friday   \n",
       "4508        Tarun Khanna     24 Feb 2017,Friday   \n",
       "\n",
       "                                              headlines  \\\n",
       "136   Air India's current business is not sustainabl...   \n",
       "231   Delhi woman alleges in-laws set her on fire, dies   \n",
       "286   People count my failures, I don't, says Virat ...   \n",
       "373   US mandates explosive trace checks for all fli...   \n",
       "399   16-year-old golfer Diksha Dagar wins silver at...   \n",
       "...                                                 ...   \n",
       "4361  A village in Arunachal sees first sunrise in I...   \n",
       "4423  Need regulatory body for medical devices, says...   \n",
       "4454  India got only 17 DRS referrals right out of 5...   \n",
       "4500  Business models of e-tailers have not worked: ...   \n",
       "4508  Ticket collector bites off senior officer?s no...   \n",
       "\n",
       "                                                    url  \\\n",
       "136   http://indiatoday.intoday.in/story/ais-current...   \n",
       "231   http://indiatoday.intoday.in/story/delhi-burns...   \n",
       "286   http://indiatoday.intoday.in/story/people-coun...   \n",
       "373   http://indiatoday.intoday.in/story/ais-direct-...   \n",
       "399   http://indiatoday.intoday.in/story/amateur-gol...   \n",
       "...                                                 ...   \n",
       "4361  http://indiatoday.intoday.in/story/first-rays-...   \n",
       "4423  http://indiatoday.intoday.in/story/india-needs...   \n",
       "4454  http://indiatoday.intoday.in/story/indecision-...   \n",
       "4500  http://indiatoday.intoday.in/story/biz-models-...   \n",
       "4508  http://indiatoday.intoday.in/story/tc-allegedl...   \n",
       "\n",
       "                                             short_text full_text  \n",
       "136   Air India's current business is \"not sustainab...       NaN  \n",
       "231   A 27-year-old woman has told police that her i...       NaN  \n",
       "286   India captain Virat Kohli has said he is not a...       NaN  \n",
       "373   The US Transportation Security Administration ...       NaN  \n",
       "399   Indian golfer Diksha Dagar won a silver medal ...       NaN  \n",
       "...                                                 ...       ...  \n",
       "4361  Dong village in Arunachal Pradesh, which is kn...       NaN  \n",
       "4423  Biocon Chairperson Kiran Mazumdar-Shaw has cal...       NaN  \n",
       "4454  The Indian team got only 17 DRS referrals in t...       NaN  \n",
       "4500  Former Infosys CFO Mohandas Pai has said that ...       NaN  \n",
       "4508  A ticket collector on Thursday allegedly bit o...       NaN  \n",
       "\n",
       "[118 rows x 6 columns]"
      ]
     },
     "execution_count": 30,
     "metadata": {},
     "output_type": "execute_result"
    }
   ],
   "source": [
    "news_summary_df[news_summary_df['full_text'].isna()]"
   ]
  },
  {
   "cell_type": "markdown",
   "id": "b4621ed1",
   "metadata": {},
   "source": [
    "**Handling Null and NA values**: There are 118 rows that are having NA in full_text column. Without having news article, we cannot summarize the news. We could have scraped the data from the website of those news articles with the help of URL given in the data. However, we have **4396 (after removing NAs)** articles to train the model which is would be sufficient. Hence, **dropping the data point that do not have news article.**"
   ]
  },
  {
   "cell_type": "code",
   "execution_count": 36,
   "id": "3867e2db",
   "metadata": {},
   "outputs": [
    {
     "data": {
      "text/plain": [
       "<AxesSubplot:>"
      ]
     },
     "execution_count": 36,
     "metadata": {},
     "output_type": "execute_result"
    },
    {
     "data": {
      "image/png": "[encoded data removed]",
      "text/plain": [
       "<Figure size 432x288 with 2 Axes>"
      ]
     },
     "metadata": {
      "needs_background": "light"
     },
     "output_type": "display_data"
    }
   ],
   "source": [
    "news_summary_df.dropna(inplace=True)\n",
    "sns.heatmap(news_summary_df.isna()) # ensuring there are no NAs"
   ]
  },
  {
   "cell_type": "code",
   "execution_count": null,
   "id": "f3d7a0d1",
   "metadata": {},
   "outputs": [],
   "source": []
  }
 ],
 "metadata": {
  "kernelspec": {
   "display_name": "Python 3 (ipykernel)",
   "language": "python",
   "name": "python3"
  },
  "language_info": {
   "codemirror_mode": {
    "name": "ipython",
    "version": 3
   },
   "file_extension": ".py",
   "mimetype": "text/x-python",
   "name": "python",
   "nbconvert_exporter": "python",
   "pygments_lexer": "ipython3",
   "version": "3.9.7"
  }
 },
 "nbformat": 4,
 "nbformat_minor": 5
}
